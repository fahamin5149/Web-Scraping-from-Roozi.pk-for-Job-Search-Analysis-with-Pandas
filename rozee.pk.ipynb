{
 "cells": [
  {
   "cell_type": "markdown",
   "id": "e3a620c0",
   "metadata": {},
   "source": [
    "This script extracts crucial information from each job listing, such as job titles, company names, job locations, gender preferences, age requirements, minimum education levels, and experience details (if available). All this data is neatly organized into a Pandas dataframe, including links to the job listings. Perform analysis on dataframe to find a job which best suits you."
   ]
  },
  {
   "cell_type": "code",
   "execution_count": 1,
   "id": "3804361f",
   "metadata": {},
   "outputs": [],
   "source": [
    "import re\n",
    "import urllib\n",
    "import os\n",
    "\n",
    "from selenium import webdriver\n",
    "from selenium.webdriver.chrome.options import Options\n",
    "from selenium.webdriver.common.keys import Keys\n",
    "from selenium.webdriver.common.by import By\n",
    "from selenium.common.exceptions import NoSuchElementException"
   ]
  },
  {
   "cell_type": "code",
   "execution_count": 80,
   "id": "d62ee58b",
   "metadata": {},
   "outputs": [],
   "source": [
    "from selenium import webdriver\n",
    "from selenium.webdriver.chrome.service import Service as ChromeService\n",
    "from webdriver_manager.chrome import ChromeDriverManager\n",
    "\n",
    "#opening browser\n",
    "driver1 = webdriver.Chrome(service=ChromeService(ChromeDriverManager().install()))\n",
    "driver2 = webdriver.Chrome(service=ChromeService(ChromeDriverManager().install()))"
   ]
  },
  {
   "cell_type": "code",
   "execution_count": 81,
   "id": "6685ebe9",
   "metadata": {},
   "outputs": [],
   "source": [
    "url1 = 'https://www.rozee.pk/'"
   ]
  },
  {
   "cell_type": "code",
   "execution_count": 83,
   "id": "36dca599",
   "metadata": {},
   "outputs": [],
   "source": [
    "#driver1=rozi and driver2=indeed\n",
    "driver1.get(url1)"
   ]
  },
  {
   "cell_type": "markdown",
   "id": "b5110524",
   "metadata": {},
   "source": [
    "# Searching about AI/ML Engineer Jobs"
   ]
  },
  {
   "cell_type": "code",
   "execution_count": 84,
   "id": "35d2a612",
   "metadata": {},
   "outputs": [],
   "source": [
    "#searching on searchbar of both websites\n",
    "searchbar1=driver1.find_element(By.XPATH, '/html/body/div[2]/div[3]/div[2]/form/div[1]/input')\n",
    "searchbar1.send_keys('AI/ML Engineer' + Keys.RETURN)"
   ]
  },
  {
   "cell_type": "code",
   "execution_count": 9,
   "id": "475a3c60",
   "metadata": {},
   "outputs": [],
   "source": [
    "import time"
   ]
  },
  {
   "cell_type": "markdown",
   "id": "e659eca5",
   "metadata": {},
   "source": [
    "# Code to extract data about jobs"
   ]
  },
  {
   "cell_type": "code",
   "execution_count": 135,
   "id": "01f1f2dd",
   "metadata": {},
   "outputs": [
    {
     "name": "stdout",
     "output_type": "stream",
     "text": [
      "['TeamSolve', 'MTBC', 'Legalator AI', 'AI Technologies', 'Ai Professionals (Pvt) Limited', 'Production King']\n",
      "['Senior QA Engineer - AI', 'Manager AI', 'AI Engineer', 'Design Sales Consultant', 'Business Development Officer', 'AI Developer']\n",
      "['Faisalabad, Islamabad, Lahore, Pakistan', 'Islamabad, Karachi, Rawalpindi, Pakistan', 'Islamabad, Pakistan', 'Gulshan-e-Iqbal, Karachi, Pakistan', 'Islamabad, Pakistan', 'Daska Road, Sialkot, Pakistan']\n",
      "['No Preference', 'No Preference', 'No Preference', 'No Preference', 'No Preference', 'No Preference']\n",
      "['Bachelor', 'Bachelor', 'Bachelor', 'Intermediate/A-Level', 'Bachelor', 'Master']\n",
      "['3 Years', '7 Years', '1 Year', '1 Year', 'Less than 1 Year', '5 Years']\n",
      "['https://www.rozee.pk/teamsolve-senior-qa-engineer-ai-islamabad-faisalabad-lahore-jobs-1424979?utm_source=jobSearch&utm_medium=website&utm_content=jobSearch_1424979&utm_campaign=ROZEE.PK_job_search', 'https://www.rozee.pk/mtbc-manager-ai-islamabad-karachi-rawalpindi-jobs-1398013?utm_source=jobSearch&utm_medium=website&utm_content=jobSearch_1398013&utm_campaign=ROZEE.PK_job_search', 'https://www.rozee.pk/legalator-ai-ai-engineer-islamabad-jobs-1427337?utm_source=jobSearch&utm_medium=website&utm_content=jobSearch_1427337&utm_campaign=ROZEE.PK_job_search', 'https://www.rozee.pk/ai-technologies-design-sales-consultant-karachi-jobs-1429743?utm_source=jobSearch&utm_medium=website&utm_content=jobSearch_1429743&utm_campaign=ROZEE.PK_job_search', 'https://www.rozee.pk/ai-professionals-pvt-limited-business-development-officer-islamabad-jobs-1433231?utm_source=jobSearch&utm_medium=website&utm_content=jobSearch_1433231&utm_campaign=ROZEE.PK_job_search', 'https://www.rozee.pk/production-king-ai-developer-sialkot-jobs-1430149?utm_source=jobSearch&utm_medium=website&utm_content=jobSearch_1430149&utm_campaign=ROZEE.PK_job_search']\n"
     ]
    }
   ],
   "source": [
    "#getting the column which has all the job listed\n",
    "ad_grid=driver1.find_element(By.XPATH, '/html/body/div[3]/div/div[2]/div[2]')\n",
    "ad_cards = ad_grid.find_elements(By.CLASS_NAME, \"job\")\n",
    "\n",
    "company=[]\n",
    "title=[]\n",
    "location=[]\n",
    "Gender_Pref=[]\n",
    "education=[]\n",
    "experience=[]\n",
    "joblink=[]\n",
    "\n",
    "\n",
    "for i in ad_cards:\n",
    "    companies=i.find_element(By.CLASS_NAME, 'cname').text #company name\n",
    "\n",
    "    split_parts = companies.split(', ')   #spliting this TeamSolve, Multiple Cities, Pakistan using commas  \n",
    "    new_string = ', '.join(split_parts[:1]) #the index[0] would be company name\n",
    "\n",
    "    company.append(new_string)\n",
    "    \n",
    "    titles=i.find_element(By.CLASS_NAME, 's-18').text  #getting job title\n",
    "    title.append(titles)\n",
    "    \n",
    "    link_element = i.find_element(By.XPATH, './/h3[@class=\"s-18\"]/a')  #xpath expression to find the link href inside h3 tag\n",
    "    job_link = link_element.get_attribute('href')\n",
    "    joblink.append(job_link)\n",
    "    \n",
    "    link_element.click()   #clicking the job link\n",
    "    time.sleep(10)\n",
    "    \n",
    "    \n",
    "    details=driver1.find_element(By.ID,'jobDetail')    #Detail of the clicked job\n",
    "    \n",
    "    listofdet=details.find_element(By.CLASS_NAME,'jobd')   #job description\n",
    "    helper=listofdet.find_elements(By.CLASS_NAME,\"row\")   #Rows in job description\n",
    "\n",
    "    #iterating over the rows of job description\n",
    "    for i in helper: \n",
    "        try:\n",
    "            jobdetailright = i.find_element(By.CLASS_NAME, \"col-lg-7.col-md-7.col-sm-8.col-6\").text  #description title eg gender\n",
    "            jobdetailleft = i.find_element(By.CLASS_NAME, \"col-6\").text #actual description\n",
    "            \n",
    "            if(jobdetailleft=='Job Location:'):\n",
    "                location.append(jobdetailright)\n",
    "            elif(jobdetailleft=='Gender'):\n",
    "                Gender_Pref.append(jobdetailright)\n",
    "            elif(jobdetailleft=='Minimum Experience'):\n",
    "                experience.append(jobdetailright)\n",
    "            elif(jobdetailleft=='Minimum Education'):\n",
    "                education.append(jobdetailright)\n",
    "\n",
    "        except NoSuchElementException:\n",
    "            print(\"Element with class name 'jblk' not found for the current element:\\n\", i.text)\n",
    "    \n",
    "\n",
    "    \n",
    "print(company)\n",
    "print(title)\n",
    "print(location)\n",
    "print(Gender_Pref)\n",
    "print(education)\n",
    "print(experience)\n",
    "print(joblink)"
   ]
  },
  {
   "cell_type": "code",
   "execution_count": 136,
   "id": "77704fbb",
   "metadata": {},
   "outputs": [],
   "source": [
    "temp_company = company\n",
    "temp_title = title\n",
    "temp_location = location\n",
    "temp_Gender_Pref = Gender_Pref\n",
    "temp_education = education\n",
    "temp_experience = experience\n",
    "temp_joblink = joblink"
   ]
  },
  {
   "cell_type": "markdown",
   "id": "3f3d5672",
   "metadata": {},
   "source": [
    "# Data of job extracted from website"
   ]
  },
  {
   "cell_type": "code",
   "execution_count": 137,
   "id": "3111d62f",
   "metadata": {},
   "outputs": [
    {
     "data": {
      "text/html": [
       "<div>\n",
       "<style scoped>\n",
       "    .dataframe tbody tr th:only-of-type {\n",
       "        vertical-align: middle;\n",
       "    }\n",
       "\n",
       "    .dataframe tbody tr th {\n",
       "        vertical-align: top;\n",
       "    }\n",
       "\n",
       "    .dataframe thead th {\n",
       "        text-align: right;\n",
       "    }\n",
       "</style>\n",
       "<table border=\"1\" class=\"dataframe\">\n",
       "  <thead>\n",
       "    <tr style=\"text-align: right;\">\n",
       "      <th></th>\n",
       "      <th>Job Title</th>\n",
       "      <th>Company Name</th>\n",
       "      <th>Location</th>\n",
       "      <th>Gender_Preference</th>\n",
       "      <th>Education</th>\n",
       "      <th>Experience</th>\n",
       "      <th>Job Link</th>\n",
       "    </tr>\n",
       "  </thead>\n",
       "  <tbody>\n",
       "    <tr>\n",
       "      <th>0</th>\n",
       "      <td>Senior QA Engineer - AI</td>\n",
       "      <td>TeamSolve</td>\n",
       "      <td>Faisalabad, Islamabad, Lahore, Pakistan</td>\n",
       "      <td>No Preference</td>\n",
       "      <td>Bachelor</td>\n",
       "      <td>3 Years</td>\n",
       "      <td>https://www.rozee.pk/teamsolve-senior-qa-engin...</td>\n",
       "    </tr>\n",
       "    <tr>\n",
       "      <th>1</th>\n",
       "      <td>Manager AI</td>\n",
       "      <td>MTBC</td>\n",
       "      <td>Islamabad, Karachi, Rawalpindi, Pakistan</td>\n",
       "      <td>No Preference</td>\n",
       "      <td>Bachelor</td>\n",
       "      <td>7 Years</td>\n",
       "      <td>https://www.rozee.pk/mtbc-manager-ai-islamabad...</td>\n",
       "    </tr>\n",
       "    <tr>\n",
       "      <th>2</th>\n",
       "      <td>AI Engineer</td>\n",
       "      <td>Legalator AI</td>\n",
       "      <td>Islamabad, Pakistan</td>\n",
       "      <td>No Preference</td>\n",
       "      <td>Bachelor</td>\n",
       "      <td>1 Year</td>\n",
       "      <td>https://www.rozee.pk/legalator-ai-ai-engineer-...</td>\n",
       "    </tr>\n",
       "    <tr>\n",
       "      <th>3</th>\n",
       "      <td>Design Sales Consultant</td>\n",
       "      <td>AI Technologies</td>\n",
       "      <td>Gulshan-e-Iqbal, Karachi, Pakistan</td>\n",
       "      <td>No Preference</td>\n",
       "      <td>Intermediate/A-Level</td>\n",
       "      <td>1 Year</td>\n",
       "      <td>https://www.rozee.pk/ai-technologies-design-sa...</td>\n",
       "    </tr>\n",
       "    <tr>\n",
       "      <th>4</th>\n",
       "      <td>Business Development Officer</td>\n",
       "      <td>Ai Professionals (Pvt) Limited</td>\n",
       "      <td>Islamabad, Pakistan</td>\n",
       "      <td>No Preference</td>\n",
       "      <td>Bachelor</td>\n",
       "      <td>Less than 1 Year</td>\n",
       "      <td>https://www.rozee.pk/ai-professionals-pvt-limi...</td>\n",
       "    </tr>\n",
       "    <tr>\n",
       "      <th>5</th>\n",
       "      <td>AI Developer</td>\n",
       "      <td>Production King</td>\n",
       "      <td>Daska Road, Sialkot, Pakistan</td>\n",
       "      <td>No Preference</td>\n",
       "      <td>Master</td>\n",
       "      <td>5 Years</td>\n",
       "      <td>https://www.rozee.pk/production-king-ai-develo...</td>\n",
       "    </tr>\n",
       "  </tbody>\n",
       "</table>\n",
       "</div>"
      ],
      "text/plain": [
       "                      Job Title                    Company Name  ...        Experience                                           Job Link\n",
       "0       Senior QA Engineer - AI                       TeamSolve  ...           3 Years  https://www.rozee.pk/teamsolve-senior-qa-engin...\n",
       "1                    Manager AI                            MTBC  ...           7 Years  https://www.rozee.pk/mtbc-manager-ai-islamabad...\n",
       "2                   AI Engineer                    Legalator AI  ...            1 Year  https://www.rozee.pk/legalator-ai-ai-engineer-...\n",
       "3       Design Sales Consultant                 AI Technologies  ...            1 Year  https://www.rozee.pk/ai-technologies-design-sa...\n",
       "4  Business Development Officer  Ai Professionals (Pvt) Limited  ...  Less than 1 Year  https://www.rozee.pk/ai-professionals-pvt-limi...\n",
       "5                  AI Developer                 Production King  ...           5 Years  https://www.rozee.pk/production-king-ai-develo...\n",
       "\n",
       "[6 rows x 7 columns]"
      ]
     },
     "execution_count": 137,
     "metadata": {},
     "output_type": "execute_result"
    }
   ],
   "source": [
    "import pandas as pd\n",
    "data={\"Job Title\":temp_title,\n",
    "    \"Company Name\":temp_company,\n",
    "    \"Location\":temp_location,\n",
    "    'Gender_Preference': temp_Gender_Pref,\n",
    "    'Education': temp_education,\n",
    "    'Experience': temp_experience,\n",
    "    'Job Link': temp_joblink\n",
    "     }\n",
    "\n",
    "df=pd.DataFrame(data)\n",
    "df"
   ]
  }
 ],
 "metadata": {
  "kernelspec": {
   "display_name": "Python 3 (ipykernel)",
   "language": "python",
   "name": "python3"
  },
  "language_info": {
   "codemirror_mode": {
    "name": "ipython",
    "version": 3
   },
   "file_extension": ".py",
   "mimetype": "text/x-python",
   "name": "python",
   "nbconvert_exporter": "python",
   "pygments_lexer": "ipython3",
   "version": "3.11.4"
  }
 },
 "nbformat": 4,
 "nbformat_minor": 5
}
